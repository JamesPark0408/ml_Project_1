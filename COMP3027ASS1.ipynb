{
 "cells": [
  {
   "cell_type": "markdown",
   "metadata": {},
   "source": [
    "# COMP30027 Machine Learning, 2022 Semester 1\n",
    "\n",
    "## Assignment 1: Naive Bayes Leaner for Adult Database\n"
   ]
  },
  {
   "cell_type": "markdown",
   "metadata": {},
   "source": [
    "## Part 1: Base code [8 marks]\n",
    "\n",
    "Instructions\n",
    "1. Do **not** shuffle the data set\n",
    "2. Treat the attributes as they are(e.g., do **not** convert numeric attributes to categorical or categorical to numeric). Implement a Naive Bayes classifier with appropriate likelihood function for each attribute.\n",
    "3. You should implement the Naive Bayes classifier from scratch. Do **not** use existing implementations/learning algorithms.\n",
    "4. You CANNOT have more than one train or predict function. Both continuous numeric attributes and categorical ones should be trained in one `train()` function, similarly for the `predict()`.  \n",
    "5. Apart from the instructions in point 3, you may use libraries to help you with data reading, representation, maths or evaluation\n",
    "6. Ensure that all and only required information is printed, as indicated in the final three code cells. Failure to adhere to print the required information will result in **[-1 mark]** per case. *(We don't mind details like you print a list or several numbers -- just make sure the information is displayed so that it's easily accessible)\n",
    "7. You may change the prototypes of these functions, and you may write other functions, according to your requirements. We would appreciate it if the required functions were prominent/easy to find. \n",
    "8. You should add adequate comments to make your code easily comprehendible.*"
   ]
  },
  {
   "cell_type": "code",
   "execution_count": 1,
   "metadata": {
    "ExecuteTime": {
     "end_time": "2022-07-26T09:06:04.917236Z",
     "start_time": "2022-07-26T09:05:51.933700Z"
    }
   },
   "outputs": [],
   "source": [
    "# Importing necessary libraries for this project\n",
    "import pandas as pd\n",
    "from sklearn.model_selection import train_test_split\n",
    "from sklearn.metrics import confusion_matrix\n",
    "from scipy.stats import norm \n",
    "from math import log, exp, sqrt, pi\n",
    "import matplotlib.pyplot as plt\n",
    "from sklearn.model_selection import KFold\n",
    "from sklearn.utils import shuffle"
   ]
  },
  {
   "cell_type": "code",
   "execution_count": 2,
   "metadata": {
    "ExecuteTime": {
     "end_time": "2022-07-26T09:06:04.929147Z",
     "start_time": "2022-07-26T09:06:04.920768Z"
    }
   },
   "outputs": [],
   "source": [
    "# This function should prepare the data by reading it from a file and converting it into a useful format for training and testing\n",
    "# and implement 90-10 splitting as specified in the project description.\n",
    "\n",
    "def preprocess(filename):\n",
    "    \"\"\"\n",
    "    Parameters:\n",
    "        - filename = path of file to access\n",
    "    \n",
    "    1) Read csv file into a dataframe\n",
    "    2) Split the dataframe into training and testing set (90-10) \n",
    "        (WITHOUT SHUFFLING)\n",
    "    \n",
    "    Return training and test datasets for X and y\n",
    "    \"\"\"\n",
    "    # Reading csv file into dataframe\n",
    "    data = pd.read_csv(filename, sep = ',')\n",
    "    \n",
    "    # Splitting data into 90-10 without shuffling\n",
    "    #     X = attribute values; y = labels \n",
    "    X, y = data.iloc[:,:-1] , data.iloc[:,-1]\n",
    "    X_train, X_test, y_train, y_test = train_test_split(X, y, test_size = 0.1, shuffle = False)\n",
    "    \n",
    "    return X_train, X_test, y_train, y_test"
   ]
  },
  {
   "cell_type": "code",
   "execution_count": 3,
   "metadata": {
    "ExecuteTime": {
     "end_time": "2022-07-26T09:06:04.943284Z",
     "start_time": "2022-07-26T09:06:04.933895Z"
    }
   },
   "outputs": [],
   "source": [
    "# This function should calculate prior probabilities and likelihoods (conditional probabilities) from the training data and using\n",
    "# to build a naive Bayes model\n",
    "\n",
    "def train(X_train, y_train, num_att, nom_att):\n",
    "    \"\"\"\n",
    "    Parameters:\n",
    "        - X_train = training data of attributes\n",
    "        - y_train = class labels of training data\n",
    "        - num_att = numerical attribute column names\n",
    "        - nom_att = nominal attribute column names\n",
    "    \n",
    "    Using training dataset:\n",
    "    - Compute prior probabilities and conditional probabilities for Naive Bayes model\n",
    "        - Nominal attributes (missing values will be a new category)\n",
    "        - Numeric attributes to fit Gaussian distribution\n",
    "    \n",
    "    Return a dictionary containing:\n",
    "        (FOR CLASS LABELS)\n",
    "        - Probability of class labels\n",
    "            - Key --> class label\n",
    "            - Value --> probability of the class label\n",
    "    \n",
    "        (FOR NOMINAL ATTRIBUTES)\n",
    "        - Conditional probabilities for each value in the nominal attribute(i) and put in dictionary:\n",
    "            - Key --> (attribute, value of attribute, class label)\n",
    "            - Value --> conditional probability of value of attribute given class label\n",
    "        - ***Did Simple Option probability smoothing method where all 0 probabilities were replaced with \n",
    "            an error constant was 0.0000001***\n",
    "        \n",
    "        (FOR NUMERICAL ATTRIBUTES)\n",
    "        - Mean and SD of each numerical attribute(i) and put in dictionary:\n",
    "            - Key --> (attribute, class label, Mean or SD)\n",
    "            - Value --> Mean or SD of attribute containing specific class label\n",
    "    \"\"\"\n",
    "    \n",
    "    # Getting Priors aka class label probabilities\n",
    "    prior_dict = dict(y_train.value_counts(normalize = True))\n",
    "\n",
    "    # Calculate conditional probabilities for nom attributes\n",
    "    nom_dict = nom_probs(pd.concat([X_train[nom_att],y_train], axis = 1))\n",
    "    \n",
    "    # Calculate mean and SD for num attributes\n",
    "    num_dict = num_probs(pd.concat([X_train[num_att],y_train], axis = 1))\n",
    "    \n",
    "    # Add all dictionaries together\n",
    "    NB_dict = {**prior_dict, **nom_dict, **num_dict}\n",
    "    \n",
    "    return NB_dict"
   ]
  },
  {
   "cell_type": "code",
   "execution_count": 4,
   "metadata": {
    "ExecuteTime": {
     "end_time": "2022-07-26T09:06:04.961462Z",
     "start_time": "2022-07-26T09:06:04.949639Z"
    }
   },
   "outputs": [],
   "source": [
    "def nom_probs(data):\n",
    "    \"\"\"\n",
    "    Parameters:\n",
    "        - data = subset of training data containing only nominal attributes and class label\n",
    "    \n",
    "    Calculate conditional probabilities for each value in the nominal attribute(i) and put in dictionary:\n",
    "        - Key --> (attribute, value of attribute, class label)\n",
    "        - Value --> conditional probability of value of attribute given class label\n",
    "        \n",
    "    To calculate all conditional probabilities, we use NB so we need:\n",
    "        (1) P(class labels)\n",
    "        (2) P(class labels|Atttribute(i)(j))\n",
    "        (3) P(Atttribute(i)(j)) \n",
    "        (*) P(Attr(i)(j)|class label) = P(class label|Attr(i)(j)) * P(Attr(i)(j)) / P(class label)\n",
    "                                    = (2)*(3)/(1)\n",
    "    \n",
    "    Finally, apply Simple Option probability smoothing method where all 0 probabilities were replaced with \n",
    "        an error constant was 0.0000001\n",
    "    \n",
    "    Returns a dictionary containing all conditional probabilities of each value of every attribute given class labels\n",
    "    \"\"\"\n",
    "    LESS_EQ50 = \" <=50K\"\n",
    "    GREATER50 = \" >50K\"\n",
    "    ERROR_CONST = 0.0000001\n",
    "    \n",
    "    # (1) Getting P(class labels): P(\" <=50K\") and P(\" >50K\")\n",
    "    less_eq_50, greater_50 = data[\"label\"].value_counts(normalize = True)\n",
    "    \n",
    "    # Store all required conditional probabilities into dictionary\n",
    "    nom_dict = {}\n",
    "    \n",
    "    # Iterate through every values of each attribute to calculate (2) and (3) \n",
    "    for col in data.iloc[:,:-1]:\n",
    "        attr = data[col]\n",
    "        \n",
    "        # Getting (3) for all values in this attribute in a dictionary format for easy use\n",
    "        val_probs = dict(attr.value_counts(normalize = True))\n",
    "        \n",
    "        # Getting (*) for each attribute value\n",
    "        for value in val_probs.keys():\n",
    "            \n",
    "            # Calculating (2) P(\" <=50K\"|value), P(\" >50K\"|value) and putting them into dict\n",
    "            #     **Account for 0 probabilities for class labels**\n",
    "            p_labels = dict(data[\"label\"].loc[data[col] == value].value_counts(normalize = True))\n",
    "            \n",
    "            # If only 1 key in p_labels --> other class label has to have prob of 0\n",
    "            if(len(p_labels.keys()) == 1):\n",
    "                \n",
    "                # Add 0 for probability of other label which is not included\n",
    "                if(list(p_labels.keys())[0] == LESS_EQ50):\n",
    "                    p_labels[GREATER50] = 0\n",
    "                else:\n",
    "                    p_labels[LESS_EQ50] = 0\n",
    "                    \n",
    "            \n",
    "            \n",
    "            # Now that we have (1),(2), and (3), we can calculate (*) for this attribute\n",
    "            # Calculate P(value| \" <=50\")\n",
    "            p_val_lessEq50 = p_labels[LESS_EQ50] * val_probs[value] / less_eq_50\n",
    "            \n",
    "            # Calculate P(value| \" >50\")\n",
    "            p_val_greater50 = p_labels[GREATER50] * val_probs[value] / greater_50\n",
    "            \n",
    "            # Applying smoothing method\n",
    "            if not p_val_lessEq50:\n",
    "                p_val_lessEq50 = ERROR_CONST\n",
    "            if not p_val_greater50:\n",
    "                p_val_greater50 = ERROR_CONST\n",
    "            \n",
    "            # Add to the dict for collation\n",
    "            nom_dict[(col, value, LESS_EQ50)] = p_val_lessEq50\n",
    "            nom_dict[(col, value, GREATER50)] = p_val_greater50\n",
    "    \n",
    "    return nom_dict\n",
    "        \n",
    "            \n",
    "    \n",
    "    "
   ]
  },
  {
   "cell_type": "code",
   "execution_count": 5,
   "metadata": {
    "ExecuteTime": {
     "end_time": "2022-07-26T09:06:04.975986Z",
     "start_time": "2022-07-26T09:06:04.966375Z"
    }
   },
   "outputs": [],
   "source": [
    "def num_probs(data):\n",
    "    \"\"\"\n",
    "    Parameters:\n",
    "        - data = subset of training data containing only numerical attributes and class label\n",
    "    \n",
    "    Calculate Mean and SD of each numerical attribute(i) and put in dictionary:\n",
    "        - Mean and SD of each numerical attribute(i) (ignore missing values)\n",
    "            - Key --> (attribute, class label, Mean or SD)\n",
    "            - Value --> Mean or SD of attribute containing specific class label\n",
    "    \n",
    "    Returns a dictionary of all Mean and SDs of every attribute of a specific class labels\n",
    "    \"\"\"\n",
    "    \n",
    "    LESS_EQ50 = \" <=50K\"\n",
    "    GREATER50 = \" >50K\"\n",
    "    \n",
    "    # Store all required conditional probabilities into dictionary\n",
    "    num_dict = {}\n",
    "    \n",
    "    # Iterate through every attribute to get Mean and SDs\n",
    "    for col in data.iloc[:,:-1]:\n",
    "        attr = data[col]\n",
    "        \n",
    "        # Separate all values in the attribute to specific class label (' <=50K',' >50K')\n",
    "        less_eq_50 = data[col].loc[data[\"label\"] == LESS_EQ50]\n",
    "        greater_50 = data[col].loc[data[\"label\"] == GREATER50]\n",
    "    \n",
    "        # Calculate mean and SD and put it into dictionary\n",
    "        num_dict[(col, LESS_EQ50, \"Mean\")] = less_eq_50.mean()\n",
    "        num_dict[(col, GREATER50, \"Mean\")] = greater_50.mean()\n",
    "        num_dict[(col, LESS_EQ50, \"SD\")] = less_eq_50.std()\n",
    "        num_dict[(col, GREATER50, \"SD\")] = greater_50.std()\n",
    "\n",
    "    return num_dict\n",
    "       "
   ]
  },
  {
   "cell_type": "code",
   "execution_count": 6,
   "metadata": {
    "ExecuteTime": {
     "end_time": "2022-07-26T09:06:04.994852Z",
     "start_time": "2022-07-26T09:06:04.981031Z"
    }
   },
   "outputs": [],
   "source": [
    "# This function should predict classes for new items in the testing data\n",
    "def predict(NB_dict, X_test, num_att, nom_att):\n",
    "    \"\"\"\n",
    "    Parameters:\n",
    "        - NB_dict = dictionary containing all conditional probabilities and priors for NB Classifier calculation\n",
    "        - X_test = testing data of attributes\n",
    "        - num_att = numerical attribute column names\n",
    "        - nom_att = nominal attribute column names\n",
    "    \n",
    "    Using Naive Bayes Classifier, to predict class labels for given X_test \n",
    "    (using Log for probabilities)\n",
    "    \n",
    "    ***We will ignore any missing numerical attributes and any new values in nominal attributes***\n",
    "    (We do not want to skew any results from adding probabilities of new values \n",
    "        as our model did not train for that new value)\n",
    "    \n",
    "    Return 2 lists:\n",
    "        - y_pred = predicted class labels with the row of each value corresponding to same row in X_test\n",
    "        - y_pred_prob = both class label probabilities calculated for y_pred in tuple\n",
    "            - [0] = predicted probability for \" <=50\"\n",
    "            - [1] = predicted probability for \" >50\"\n",
    "    \"\"\"\n",
    "    \n",
    "    LESS_EQ50 = \" <=50K\"\n",
    "    GREATER50 = \" >50K\"\n",
    "    \n",
    "    y_pred = []\n",
    "    y_pred_prob = []\n",
    "\n",
    "    # Iterate every row(instance) and get class labels\n",
    "    for ind in X_test.index:\n",
    "        \n",
    "        # Initialize Conditional probabilities with priors first\n",
    "        pred_p_lessEq50 = NB_dict[LESS_EQ50]\n",
    "        pred_p_greater50 = NB_dict[GREATER50]\n",
    "        \n",
    "        # Go through every nominal attribute and include into probability of each class label\n",
    "        for attr in nom_att:\n",
    "            \n",
    "            # Check if the value is not new\n",
    "            if((attr, X_test[attr][ind], LESS_EQ50) in NB_dict):\n",
    "                \n",
    "                pred_p_lessEq50 *= NB_dict[(attr, X_test[attr][ind], LESS_EQ50)]\n",
    "                pred_p_greater50 *= NB_dict[(attr, X_test[attr][ind], GREATER50)]\n",
    "        \n",
    "        \n",
    "        # Go through every numerical attribute and include into probability of each class label\n",
    "        for attr in num_att:\n",
    "            \n",
    "            # Check if missing value\n",
    "            if(X_test[attr][ind]!= \"?\"):\n",
    "                \n",
    "                pred_p_lessEq50 *= norm(NB_dict[(attr, LESS_EQ50, \"Mean\")]\n",
    "                                        ,NB_dict[(attr, LESS_EQ50, \"SD\")]).pdf(X_test[attr][ind])\n",
    "                pred_p_greater50 *= norm(NB_dict[(attr, GREATER50, \"Mean\")]\n",
    "                                        ,NB_dict[(attr, GREATER50, \"SD\")]).pdf(X_test[attr][ind])\n",
    "        \n",
    "        # Don't forget to log probabilities\n",
    "        pred_p_lessEq50 = log(pred_p_lessEq50)\n",
    "        pred_p_greater50 = log(pred_p_greater50)\n",
    "        \n",
    "        # Pick the highest probability and store it\n",
    "        if(pred_p_lessEq50 > pred_p_greater50):\n",
    "            y_pred.append(LESS_EQ50)\n",
    "\n",
    "        elif(pred_p_lessEq50 < pred_p_greater50):\n",
    "            y_pred.append(GREATER50)\n",
    "\n",
    "        # In case we get same probabilities, we put out both in prediction to say both are equally likely\n",
    "        else:\n",
    "            y_pred.append((LESS_EQ50, GREATER50))\n",
    "        \n",
    "        # Add both probabilities to y_pred_prob\n",
    "        y_pred_prob.append((pred_p_lessEq50, pred_p_greater50))\n",
    "        \n",
    "    return y_pred, y_pred_prob"
   ]
  },
  {
   "cell_type": "code",
   "execution_count": 7,
   "metadata": {
    "ExecuteTime": {
     "end_time": "2022-07-26T09:06:05.008213Z",
     "start_time": "2022-07-26T09:06:04.999301Z"
    }
   },
   "outputs": [],
   "source": [
    "# This function should evaliate the prediction performance by comparing your model’s class outputs to ground\n",
    "# truth labels, return and output accuracy, confusion matrix and F1 score.\n",
    "\n",
    "def evaluate(y_test, y_pred):\n",
    "    \"\"\"\n",
    "    Evaluate prediction performance of model (print all results):\n",
    "        - Get confusion matrix(2x2) (Positive --> \" <=50K\"; Negative --> \" >50K\")\n",
    "            - [0][0] = TP\n",
    "            - [0][1] = FN\n",
    "            - [1][0] = FP\n",
    "            - [1][1] = TN\n",
    "        - Get Accuracy --> (TP + TN) / (TP + FP + FN + TN)\n",
    "        - Get F1 score --> 2PR / (P + R)\n",
    "            - P = TP / (TP + FP)\n",
    "            - R = TP / (TP + FN)\n",
    "    \n",
    "    Return Confusion Matrix, Accuracy, F1 score\n",
    "    \"\"\"\n",
    "    \n",
    "    # Getting confusion matrix and printing where:\n",
    "    #     - Positive --> \" <=50K\"\n",
    "    #     - Negative --> \" >50K\"\n",
    "    con_mat = confusion_matrix(y_test, y_pred, labels=[\" <=50K\", \" >50K\"])\n",
    "    print(\"Confusion Matrix:\")\n",
    "    print(con_mat)\n",
    "    \n",
    "    # Get tp, fn, fp, tn\n",
    "    tp, fn, fp, tn = con_mat.ravel()\n",
    "    \n",
    "    # Getting Accuracy and printing\n",
    "    accuracy = (tp + tn) / (tp + fp + fn + tn)\n",
    "    print(\"Accuracy: \", accuracy)\n",
    "    \n",
    "    # Getting F1 score\n",
    "    # Get Precision(P)\n",
    "    p = tp / (tp + fp)\n",
    "    \n",
    "    # Get Recall(R)\n",
    "    r = tp / (tp + fn)\n",
    "    \n",
    "    # Calculate F1 score\n",
    "    f1 = 2 * p * r / (p + r)\n",
    "    print(\"F1 score: \", f1)\n",
    "    \n",
    "    return con_mat, accuracy, f1"
   ]
  },
  {
   "cell_type": "code",
   "execution_count": 8,
   "metadata": {
    "ExecuteTime": {
     "end_time": "2022-07-26T09:06:05.662181Z",
     "start_time": "2022-07-26T09:06:05.015851Z"
    }
   },
   "outputs": [
    {
     "name": "stdout",
     "output_type": "stream",
     "text": [
      "Confusion Matrix:\n",
      "[[69  8]\n",
      " [ 6 17]]\n",
      "Accuracy:  0.86\n",
      "F1 score:  0.9078947368421053\n",
      "Attribute vectors of instances [0, 1, 2]: \n",
      " - Instance[0]:  [68, ' ?', ' 1st-4th', 2, ' Divorced', ' ?', ' Not-in-family', ' White', ' Female', 20, ' United-States'] \n",
      " - Instance[1]:  [39, ' State-gov', ' Bachelors', 13, ' Never-married', ' Adm-clerical', ' Not-in-family', ' White', ' Male', 40, ' United-States'] \n",
      " - Instance[2]:  [50, ' Self-emp-not-inc', ' Bachelors', 13, ' Married-civ-spouse', ' Exec-managerial', ' Husband', ' White', ' Male', 13, ' United-States']\n",
      "\n",
      "Number of instances (N):  1000\n",
      "Number of attributes (F):  11\n",
      "Number of labels (L):  2\n",
      "\n",
      "\n",
      "Predicted class log-probabilities for instance N-3: \n",
      "  <=50:  -20.71689698193305 \n",
      "  >50:  -19.556273652832147\n",
      "Predicted class ID for instance N-3:   >50K\n",
      "\n",
      "Predicted class log-probabilities for instance N-2: \n",
      "  <=50:  -25.33907063773019 \n",
      "  >50:  -22.744589775643142\n",
      "Predicted class ID for instance N-2:   >50K\n",
      "\n",
      "Predicted class log-probabilities for instance N-1: \n",
      "  <=50:  -16.852794958645738 \n",
      "  >50:  -16.716481989445864\n",
      "Predicted class ID for instance N-1:   >50K\n"
     ]
    }
   ],
   "source": [
    "# This cell should act as your \"main\" function where you call the above functions \n",
    "# on the full ADULT data set, and print the evaluation results. [0.33 marks]\n",
    "\n",
    "\n",
    "########################################################################################################\n",
    "# First, read in the data and apply your NB model to the ADULT data\n",
    "\n",
    "# Read data and split into training and testing datasets\n",
    "filename = 'dataset/adult.csv'\n",
    "X_train, X_test, y_train, y_test = preprocess(filename)\n",
    "\n",
    "# Finding numerical and nominal attributes manually\n",
    "num_att = [\"age\", \"education num\", \"hours per week\"]\n",
    "nom_att = X_train.drop(num_att,1).columns.values.tolist()\n",
    "\n",
    "# Training model\n",
    "NB_dict = train(X_train, y_train, num_att, nom_att)\n",
    "\n",
    "# Predicting based on test data\n",
    "y_pred, y_pred_prob = predict(NB_dict, X_test, num_att, nom_att)\n",
    "\n",
    "\n",
    "########################################################################################################\n",
    "# Second, print the full evaluation results from the evaluate() function\n",
    "con_mat, accuracy, f1 = evaluate(y_test, y_pred)\n",
    "\n",
    "\n",
    "########################################################################################################\n",
    "# Third, print data statistics and model predictions, as instructed below \n",
    "# N is the total number of instances, F the total number of attributes, L the total number of labels\n",
    "# The \"class probabilities\" may be unnormalized\n",
    "# The \"predicted class ID\" must be in range (0, L)\n",
    "\n",
    "print(\"Attribute vectors of instances [0, 1, 2]: \\n - Instance[0]: \", list(X_train.iloc[0,:])\n",
    "        , \"\\n - Instance[1]: \", list(X_train.iloc[1,:])\n",
    "        , \"\\n - Instance[2]: \", list(X_train.iloc[2,:]) \n",
    "     ) # of the first three records in adult.csv\n",
    "\n",
    "print(\"\\nNumber of instances (N): \", (len(X_train) + len(X_test)))\n",
    "print(\"Number of attributes (F): \", len(X_train.columns))\n",
    "print(\"Number of labels (L): \", y_train.nunique())\n",
    "\n",
    "\n",
    "# print out the prediction results of the last three instances\n",
    "print(\"\\n\\nPredicted class log-probabilities for instance N-3: \"\n",
    "      + \"\\n \"\" <=50\"\": \", y_pred_prob[-3][0]\n",
    "      , \"\\n \"\" >50\"\": \", y_pred_prob[-3][1]\n",
    "     )\n",
    "print(\"Predicted class ID for instance N-3: \", y_pred[-3])\n",
    "print(\"\\nPredicted class log-probabilities for instance N-2: \"\n",
    "      + \"\\n \"\" <=50\"\": \", y_pred_prob[-2][0]\n",
    "      , \"\\n \"\" >50\"\": \", y_pred_prob[-2][1]\n",
    "     )\n",
    "print(\"Predicted class ID for instance N-2: \", y_pred[-2])\n",
    "print(\"\\nPredicted class log-probabilities for instance N-1: \"\n",
    "      + \"\\n \"\" <=50\"\": \", y_pred_prob[-1][0]\n",
    "      , \"\\n \"\" >50\"\": \", y_pred_prob[-1][1]\n",
    "     )\n",
    "print(\"Predicted class ID for instance N-1: \", y_pred[-1])\n",
    "\n"
   ]
  },
  {
   "cell_type": "markdown",
   "metadata": {},
   "source": [
    "## Part 2: Conceptual questions [8 marks for groups of 1] / [16 marks for groups of 2]\n",
    "\n",
    "\n",
    "If you are in a group of 1, you should respond to Q1 and Q2.\n",
    "\n",
    "If you are in a group of 2, you should respond to Q1, Q2, Q3 and Q4.\n",
    "\n",
    "A response to a question should take about 100–250 words. You may need to develope codes or functions to help respond to the question here. \n",
    "\n",
    "#### NOTE: We strongly recommend <u>including figures or tables, etc.</u> to support your responses. The figures and tables inserted in Markdown cells must be reproducable by your code."
   ]
  },
  {
   "cell_type": "markdown",
   "metadata": {},
   "source": [
    "### Q1 [4 marks]\n",
    "<u>Sensitivity</u> and <u>specificity</u> are two model evaluation metrics.  A good model should have both sensitivity and specificity high. Use the $2 \\times 2$ confusion matrix returned by `evaluate()` to calculate the sensitivity and specificity. Do you see a difference between them? If so, what causes this difference? Provide suggestions to improve the model performance. "
   ]
  },
  {
   "cell_type": "code",
   "execution_count": 9,
   "metadata": {
    "ExecuteTime": {
     "end_time": "2022-07-26T09:06:05.670032Z",
     "start_time": "2022-07-26T09:06:05.665789Z"
    }
   },
   "outputs": [
    {
     "name": "stdout",
     "output_type": "stream",
     "text": [
      "sensitivity:  0.8961038961038961\n",
      "specificity:  0.7391304347826086\n"
     ]
    }
   ],
   "source": [
    "# Write additional code here, if necessary (you may insert additional code cells)\n",
    "# Get tp, fn, fp, tn\n",
    "tp, fn, fp, tn = con_mat.ravel()\n",
    "\n",
    "# Getting sensitivity --> TP / (TP + FN)\n",
    "sensitivity = tp / (tp + fn)\n",
    "print(\"sensitivity: \", sensitivity)\n",
    "\n",
    "# Getting specificity --> TN / (TN + FP)\n",
    "specificity = tn / (tn + fp)\n",
    "print(\"specificity: \", specificity)"
   ]
  },
  {
   "cell_type": "code",
   "execution_count": 10,
   "metadata": {
    "ExecuteTime": {
     "end_time": "2022-07-26T09:06:05.683057Z",
     "start_time": "2022-07-26T09:06:05.672806Z"
    }
   },
   "outputs": [
    {
     "data": {
      "text/plain": [
       " <=50K    692\n",
       " >50K     208\n",
       "Name: label, dtype: int64"
      ]
     },
     "execution_count": 10,
     "metadata": {},
     "output_type": "execute_result"
    }
   ],
   "source": [
    "y_train.value_counts()"
   ]
  },
  {
   "cell_type": "markdown",
   "metadata": {},
   "source": [
    "We can see that there is a difference between sensitivity and specificity. The model was able to correctly identify instances where income is less than or equal to 50K better than instances where income is greater than 50K. The difference could be cause due to the fact that the training data were given almost 3.5 time more of \" <=50K\" labeled instances as compared to \" >50K\" labeled instances. \n",
    "\n",
    "To improve the model performance, specifically towards increasing the specificity, we could add more instances labeled \" >50K\" for the training data. \n",
    "\n",
    "As a whole, to improve model performance, instead of assuming all numerical attributes to have a Gaussian distribution, we actually visualize and see the numerical data to check if it follows a Gaussian distribution. For those that do not follow the Gaussian distribution, we can apply KDE instead to those numerical attributes for a more accurate result. \n",
    "\n",
    "We also see that some features are not independent according to our NB assumptions that all features are independent (inductive bias). A clear example would be \"education num\" and \"education\". The values in both attributes are highly correlated = 1. So, before applying NB, we should remove one of the attriubutes to remove as much correlated attributes as we can to fit the assumptions of NB. "
   ]
  },
  {
   "cell_type": "markdown",
   "metadata": {},
   "source": [
    "### Q2 [4 marks]\n",
    "You can adopt different methods for training and/or testing, which will produce different results in model evaluation. \n",
    "\n",
    "(a) Instead of Gaussian, <u>implement KDE</u> for  $P(X_i|c_j)$ for numeric attributes $X_i$. Compare the evaluation results with Gaussian. Which one do you think is more suitable to model $P(X_i|c_j)$, Gaussian or KDE? Observe all numeric attributes and justify your answer.\n",
    "\n",
    "You can choose an arbitrary value for kernel bandwidth $\\sigma$ for KDE, but a value between 3 and 15 is recommended. You should write code to implement KDE, not call an existing function/method such as `KernelDensity` from `scikit-learn`.\n",
    "\n",
    "(b) Implement <u>10-fold and 2-fold cross-validations</u>.  \n",
    "\tObserve the evaluation results in each fold and the average accuracy, recall and specificity over all folds. \n",
    "\tComment on what is the effect by changing the values of $m$ in $m$-fold cross validation. (You can choose either Gaussian or KDE Naive Bayes.)"
   ]
  },
  {
   "cell_type": "markdown",
   "metadata": {},
   "source": [
    "#### QUESTION (a)"
   ]
  },
  {
   "cell_type": "code",
   "execution_count": 11,
   "metadata": {
    "ExecuteTime": {
     "end_time": "2022-07-26T09:06:05.700941Z",
     "start_time": "2022-07-26T09:06:05.688164Z"
    }
   },
   "outputs": [],
   "source": [
    "\n",
    "def predict_KDE(Xy_train, X_test, num_att, nom_att, SD):\n",
    "    \"\"\"\n",
    "    Parameters:\n",
    "        - Xy_train = training data of attributes and labels\n",
    "        - X_test = testing data of attributes\n",
    "        - num_att = numerical attribute column names\n",
    "        - nom_att = nominal attribute column names\n",
    "        - SD = kernal bandwidth chosen \n",
    "    \n",
    "    Using Naive Bayes Classifier, to predict class labels for given X_test \n",
    "    (using Log for probabilities)\n",
    "    \n",
    "    However, for num attributes, we will implement KDE instead of Gaussian\n",
    "        - Done while predicting\n",
    "    \n",
    "    Return a list:\n",
    "        - y_pred = predicted class labels with the row of each value corresponding to same row in X_test\n",
    "    \"\"\"\n",
    "    \n",
    "    # Getting Priors aka class label probabilities\n",
    "    prior_dict = dict(y_train.value_counts(normalize = True))\n",
    "\n",
    "    # Calculate conditional probabilities for nom attributes\n",
    "    nom_dict = nom_probs(pd.concat([X_train[nom_att],y_train], axis = 1))\n",
    "    \n",
    "    # Add all dictionaries together\n",
    "    NB_dict = {**prior_dict, **nom_dict}\n",
    "       \n",
    "        \n",
    "    # Predicting     \n",
    "    LESS_EQ50 = \" <=50K\"\n",
    "    GREATER50 = \" >50K\"\n",
    "    \n",
    "    y_pred = []\n",
    "    n = len(Xy_train)\n",
    "\n",
    "    # Iterate every row(instance) and get class labels\n",
    "    for ind in X_test.index:\n",
    "        \n",
    "        # Initialize Conditional probabilities with priors first\n",
    "        pred_p_lessEq50 = NB_dict[LESS_EQ50]\n",
    "        pred_p_greater50 = NB_dict[GREATER50]\n",
    "        \n",
    "        # Go through every nominal attribute and include into probability of each class label\n",
    "        for attr in nom_att:\n",
    "            # Check if the value is not new\n",
    "            if((attr, X_test[attr][ind], LESS_EQ50) in NB_dict):\n",
    "                pred_p_lessEq50 *= NB_dict[(attr, X_test[attr][ind], LESS_EQ50)]\n",
    "                pred_p_greater50 *= NB_dict[(attr, X_test[attr][ind], GREATER50)]\n",
    "        \n",
    "        # Go through every numerical attribute and implement KDE\n",
    "        for attr in num_att:\n",
    "            x = X_test[attr][ind]\n",
    "            \n",
    "            # Make sure x is not missing (\"?\")\n",
    "            if(x != \"?\"):\n",
    "            \n",
    "                # Separate all values in the attribute to specific class label (' <=50K',' >50K')\n",
    "                less_eq_50 = Xy_train[attr].loc[Xy_train[\"label\"] == LESS_EQ50]\n",
    "                greater_50 = Xy_train[attr].loc[Xy_train[\"label\"] == GREATER50]\n",
    "\n",
    "                # Calculating the KDE for each attribute and class label to be includeded into prediction probability\n",
    "                # For \" <=50\" label\n",
    "                kde = 0\n",
    "                for xi in less_eq_50:\n",
    "                    kde += (1/(SD * sqrt(2 * pi)) * exp(-0.5 * ((x-xi) / SD)**2))\n",
    "                pred_p_lessEq50 *= (kde/n)\n",
    "\n",
    "                # For \" >50\" label\n",
    "                kde = 0\n",
    "                for xi in greater_50:\n",
    "                    kde += (1/(SD * sqrt(2 * pi)) * exp(-0.5 * ((x-xi) / SD)**2))\n",
    "                pred_p_greater50 *= (kde/n)\n",
    "                \n",
    "        # Pick the highest probability and store it\n",
    "        if(pred_p_lessEq50 > pred_p_greater50):\n",
    "            y_pred.append(LESS_EQ50)\n",
    "\n",
    "        elif(pred_p_lessEq50 < pred_p_greater50):\n",
    "            y_pred.append(GREATER50)\n",
    "\n",
    "        # In case we get same probabilities, we put out both in prediction to say both are equally likely\n",
    "        else:\n",
    "            y_pred.append((LESS_EQ50, GREATER50))\n",
    "    \n",
    "    return y_pred\n"
   ]
  },
  {
   "cell_type": "code",
   "execution_count": 12,
   "metadata": {
    "ExecuteTime": {
     "end_time": "2022-07-26T09:06:06.292229Z",
     "start_time": "2022-07-26T09:06:05.705947Z"
    },
    "scrolled": true
   },
   "outputs": [
    {
     "name": "stdout",
     "output_type": "stream",
     "text": [
      "Confusion Matrix:\n",
      "[[76  1]\n",
      " [15  8]]\n",
      "Accuracy:  0.84\n",
      "F1 score:  0.9047619047619049\n"
     ]
    }
   ],
   "source": [
    "training_data = pd.concat([X_train, y_train], axis = 1)\n",
    "y_pred_KDE = predict_KDE(training_data, X_test, num_att, nom_att, 3)\n",
    "con_mat_KDE, accuracy_KDE, f1_KDE = evaluate(y_test, y_pred_KDE)"
   ]
  },
  {
   "cell_type": "code",
   "execution_count": 13,
   "metadata": {
    "ExecuteTime": {
     "end_time": "2022-07-26T09:06:06.927983Z",
     "start_time": "2022-07-26T09:06:06.293886Z"
    },
    "scrolled": false
   },
   "outputs": [
    {
     "data": {
      "text/plain": [
       "<matplotlib.legend.Legend at 0x7fbdf12a0880>"
      ]
     },
     "execution_count": 13,
     "metadata": {},
     "output_type": "execute_result"
    },
    {
     "data": {
      "image/png": "[encoded data removed]",
      "text/plain": [
       "<Figure size 1080x2160 with 3 Axes>"
      ]
     },
     "metadata": {
      "needs_background": "light"
     },
     "output_type": "display_data"
    }
   ],
   "source": [
    "# Plotting histograms of numerical attributes to visualize and help see which method to use (Gaussian or KDE)\n",
    "\n",
    "# Separating on class labels first\n",
    "LESS_EQ50 = \" <=50K\"\n",
    "GREATER50 = \" >50K\"\n",
    "training_lessEq_50 = (training_data.loc[training_data[\"label\"] == LESS_EQ50])\n",
    "training_greater_50 = (training_data.loc[training_data[\"label\"] == GREATER50])\n",
    "\n",
    "# Initialize plot\n",
    "figure, axis = plt.subplots(3,1)\n",
    "figure.set_size_inches(15,30)\n",
    "\n",
    "# For \"age\" column\n",
    "axis[0].hist(training_lessEq_50[\"age\"], bins = 30, alpha = 0.5, label = \" <=50\")\n",
    "axis[0].hist(training_greater_50[\"age\"], bins = 30, alpha = 0.5, label = \" <=50\")\n",
    "axis[0].set_title(\"age\", fontsize = 40)\n",
    "axis[0].legend(loc = \"upper right\")\n",
    "\n",
    "\n",
    "# For \"education num\" column\n",
    "axis[1].hist(training_lessEq_50[\"education num\"], bins = 14, alpha = 0.5, label = \" <=50\")\n",
    "axis[1].hist(training_greater_50[\"education num\"], bins = 14, alpha = 0.5, label = \" <=50\")\n",
    "axis[1].set_title(\"education num\", fontsize = 40)\n",
    "axis[1].legend(loc = \"upper right\")\n",
    "\n",
    "# For \"hours per week\" column\n",
    "axis[2].hist(training_lessEq_50[\"hours per week\"], bins = 20, alpha = 0.5, label = \" <=50\")\n",
    "axis[2].hist(training_greater_50[\"hours per week\"], bins = 20, alpha = 0.5, label = \" <=50\")\n",
    "axis[2].set_title(\"hours per week\", fontsize = 40)\n",
    "axis[2].legend(loc = \"upper right\")\n"
   ]
  },
  {
   "cell_type": "markdown",
   "metadata": {},
   "source": [
    "We used kernel bandwidth = 3 (3-12 gives same output). We see the model was able to correctly identify instances where income is less than or equal to 50K much better this time but correctly identifying instances where income is greater than 50K deproved. Accuracy dropped by 0.02 and F1 score seems to be almost the same (slightly lower). \n",
    "\n",
    "If our model's goal was more focused towards identifying those with less than or equal to 50K, then this model would be a better option. But since there is no information on the importance on individual labels, our previous model would be the better choice due to better evaluation.\n",
    "\n",
    "Observing the histograms of numerical attributes, we do not see all the distributions to be Gaussian (e.g. \" <=50\" attributes for attribute \"age\" shows a skew to the right). So what would be best is to pick numerical attributes that would fit the Gaussian distribution to use the Gaussian NB while the other numerical attributes use KDE NB. This would be able to make the model performance to increase as now we do not blindly assume distributions for numerical attributes. One way to check for Gaussian distribution is to use scipy normaltest function and depending on the alpha you determine which would test for pvalue signifiance, we can find which attribute fits the Gaussian Distribution or not."
   ]
  },
  {
   "cell_type": "markdown",
   "metadata": {
    "ExecuteTime": {
     "end_time": "2022-04-05T13:03:15.146047Z",
     "start_time": "2022-04-05T13:03:15.133471Z"
    }
   },
   "source": [
    "#### QUESTION (b)"
   ]
  },
  {
   "cell_type": "code",
   "execution_count": 14,
   "metadata": {
    "ExecuteTime": {
     "end_time": "2022-07-26T09:06:06.935518Z",
     "start_time": "2022-07-26T09:06:06.929646Z"
    }
   },
   "outputs": [],
   "source": [
    "def k_fold_evaluation(k, data):\n",
    "    \"\"\"\n",
    "    Parameters:\n",
    "        - k: number of folds\n",
    "        - data: entire dataset \n",
    "        \n",
    "    Steps:\n",
    "    1) Shuffle dataset (ONLY HERE AND NOT DURING ITERATION)\n",
    "    2) Split dataset into 10 folds for each class(groups)\n",
    "    3) Iterate through each fold being the test set while the rest is training set\n",
    "        - Each iteration we will train/test/evaluate (Gaussian NB)\n",
    "        - We want to find accuracy, recall and specificity\n",
    "    4) Average the sum of all the scores we found for respective evaluation metric\n",
    "        - This will give the evaluation score for this cross validation\n",
    "    \n",
    "    Return average accuracy, recall and specificity for k fold\n",
    "    \"\"\"\n",
    "    \n",
    "    # Shuffle dataset (Applied random state to fix the randomization so we can compare results accurately)\n",
    "    #   - \n",
    "    data = shuffle(data, random_state= 55)\n",
    "    data.reset_index(inplace = True, drop = True)\n",
    "    \n",
    "    # Set number of folds\n",
    "    fold = KFold(n_splits=k)\n",
    "    \n",
    "    #Variables we want to keep track of\n",
    "    accuracy = 0\n",
    "    recall = 0\n",
    "    specificity = 0\n",
    "    \n",
    "    # Iterate every cross validation of kfolds and evaluate\n",
    "    for train_i, test_i in fold.split(data):\n",
    "        X_train, X_test = data.iloc[train_i,:-1], data.iloc[test_i,:-1]\n",
    "        y_train, y_test = data.iloc[train_i,-1], data.iloc[test_i,-1]\n",
    "        \n",
    "        # Train new model\n",
    "        NB_dict = train(X_train, y_train, num_att, nom_att)\n",
    "        \n",
    "        # Predict with new model\n",
    "        y_pred, y_pred_prob = predict(NB_dict, X_test, num_att, nom_att)\n",
    "        \n",
    "        # Evaluate new model\n",
    "        con_mat, acc, f1 = evaluate(y_test, y_pred)\n",
    "        print('-' * 50)\n",
    "        \n",
    "        # Get accuracy, recall and specificity\n",
    "        accuracy += acc\n",
    "        tp, fn, fp, tn = con_mat.ravel()\n",
    "        recall += tp / (tp + fn)\n",
    "        specificity += tn / (tn + fp)\n",
    "    \n",
    "    # Average out the evaluation scores\n",
    "    accuracy /= k\n",
    "    recall /= k\n",
    "    specificity /= k\n",
    "    \n",
    "    return accuracy, recall, specificity\n",
    "    \n",
    "    "
   ]
  },
  {
   "cell_type": "code",
   "execution_count": 15,
   "metadata": {
    "ExecuteTime": {
     "end_time": "2022-07-26T09:06:12.498264Z",
     "start_time": "2022-07-26T09:06:06.937522Z"
    }
   },
   "outputs": [
    {
     "name": "stdout",
     "output_type": "stream",
     "text": [
      "Confusion Matrix:\n",
      "[[61 14]\n",
      " [ 4 21]]\n",
      "Accuracy:  0.82\n",
      "F1 score:  0.8714285714285714\n",
      "--------------------------------------------------\n",
      "Confusion Matrix:\n",
      "[[65 11]\n",
      " [ 6 18]]\n",
      "Accuracy:  0.83\n",
      "F1 score:  0.8843537414965986\n",
      "--------------------------------------------------\n",
      "Confusion Matrix:\n",
      "[[64 16]\n",
      " [ 6 14]]\n",
      "Accuracy:  0.78\n",
      "F1 score:  0.8533333333333333\n",
      "--------------------------------------------------\n",
      "Confusion Matrix:\n",
      "[[64  7]\n",
      " [10 19]]\n",
      "Accuracy:  0.83\n",
      "F1 score:  0.8827586206896552\n",
      "--------------------------------------------------\n",
      "Confusion Matrix:\n",
      "[[60 17]\n",
      " [ 8 15]]\n",
      "Accuracy:  0.75\n",
      "F1 score:  0.8275862068965517\n",
      "--------------------------------------------------\n",
      "Confusion Matrix:\n",
      "[[69  5]\n",
      " [ 9 17]]\n",
      "Accuracy:  0.86\n",
      "F1 score:  0.9078947368421053\n",
      "--------------------------------------------------\n",
      "Confusion Matrix:\n",
      "[[57 14]\n",
      " [ 8 21]]\n",
      "Accuracy:  0.78\n",
      "F1 score:  0.8382352941176471\n",
      "--------------------------------------------------\n",
      "Confusion Matrix:\n",
      "[[77  9]\n",
      " [ 3 11]]\n",
      "Accuracy:  0.88\n",
      "F1 score:  0.927710843373494\n",
      "--------------------------------------------------\n",
      "Confusion Matrix:\n",
      "[[65 12]\n",
      " [ 6 17]]\n",
      "Accuracy:  0.82\n",
      "F1 score:  0.8783783783783784\n",
      "--------------------------------------------------\n",
      "Confusion Matrix:\n",
      "[[71 11]\n",
      " [ 5 13]]\n",
      "Accuracy:  0.84\n",
      "F1 score:  0.8987341772151899\n",
      "--------------------------------------------------\n",
      "For 10-fold cross validation:\n",
      "Average accuracy:  0.8190000000000002 \n",
      "Average recall:  0.848983339489569 \n",
      "Average specificity:  0.7222397354436335\n"
     ]
    }
   ],
   "source": [
    "# Now we call the function and find out the results\n",
    "\n",
    "# Get the entire dataset as a whole\n",
    "data = pd.read_csv(filename, sep = ',')\n",
    "\n",
    "\n",
    "# Find average accuracy, recall and specificity for 10-fold cross validation\n",
    "accuracy_kfold, recall_kfold, specificity_kfold = k_fold_evaluation(10, data)\n",
    "print(\"For 10-fold cross validation:\\nAverage accuracy: \", accuracy_kfold\n",
    "      , \"\\nAverage recall: \", recall_kfold\n",
    "      , \"\\nAverage specificity: \", specificity_kfold)\n",
    "\n"
   ]
  },
  {
   "cell_type": "code",
   "execution_count": 16,
   "metadata": {
    "ExecuteTime": {
     "end_time": "2022-07-26T09:06:17.024219Z",
     "start_time": "2022-07-26T09:06:12.499919Z"
    },
    "scrolled": true
   },
   "outputs": [
    {
     "name": "stdout",
     "output_type": "stream",
     "text": [
      "Confusion Matrix:\n",
      "[[313  66]\n",
      " [ 36  85]]\n",
      "Accuracy:  0.796\n",
      "F1 score:  0.8598901098901099\n",
      "--------------------------------------------------\n",
      "Confusion Matrix:\n",
      "[[336  54]\n",
      " [ 34  76]]\n",
      "Accuracy:  0.824\n",
      "F1 score:  0.8842105263157896\n",
      "--------------------------------------------------\n",
      "For 2-fold cross validation:\n",
      "Average accuracy:  0.81 \n",
      "Average recall:  0.8436979906636899 \n",
      "Average specificity:  0.6966942148760331\n"
     ]
    }
   ],
   "source": [
    "# Find average accuracy, recall and specificity for 2-fold cross validation\n",
    "accuracy_kfold, recall_kfold, specificity_kfold = k_fold_evaluation(2, data)\n",
    "print(\"For 2-fold cross validation:\\nAverage accuracy: \", accuracy_kfold\n",
    "      , \"\\nAverage recall: \", recall_kfold\n",
    "      , \"\\nAverage specificity: \", specificity_kfold)"
   ]
  },
  {
   "cell_type": "markdown",
   "metadata": {
    "jupyter": {
     "outputs_hidden": true
    }
   },
   "source": [
    "We know that, in general, more folds means we have more training data which means we should improve our evaluation, and we see here that the 10-fold does have slightly improved evaluation scores (though it is not significant). Comparing the evaluation metrics, we see that the accuracy is about the same for both kfold, but due to the unbalanced data where there are much more positive case (\" <=50\") instances, this information may not be reliable as the influence of positive case instances would be much higher. We will use accuracy just as a gauge of how well our model is able to get correct responses. More importantly, we will focus on recall and specificity. Recall is the proportion of true positive cases the model was able to detect while specificity is the same but for true negative cases. We see the effect of recall does not change as much due to the large training data there is for positive case. So a split of 2 or 10 would still leave quite a number of data for model to train. The same almost goes for negative cases, however, since it is still much lower than that of positive cases, we would see a bigger drop in specificity when we do 2 fold instead of 10 fold at (~3% in this case)."
   ]
  }
 ],
 "metadata": {
  "kernelspec": {
   "display_name": "Python 3",
   "language": "python",
   "name": "python3"
  },
  "language_info": {
   "codemirror_mode": {
    "name": "ipython",
    "version": 3
   },
   "file_extension": ".py",
   "mimetype": "text/x-python",
   "name": "python",
   "nbconvert_exporter": "python",
   "pygments_lexer": "ipython3",
   "version": "3.8.8"
  },
  "toc": {
   "base_numbering": 1,
   "nav_menu": {},
   "number_sections": true,
   "sideBar": true,
   "skip_h1_title": false,
   "title_cell": "Table of Contents",
   "title_sidebar": "Contents",
   "toc_cell": false,
   "toc_position": {},
   "toc_section_display": true,
   "toc_window_display": false
  }
 },
 "nbformat": 4,
 "nbformat_minor": 4
}
